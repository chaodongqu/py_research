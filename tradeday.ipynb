{
 "cells": [
  {
   "cell_type": "code",
   "execution_count": 1,
   "metadata": {},
   "outputs": [],
   "source": [
    "import numpy as np\n",
    "import pandas as pd\n",
    "import numpy as np\n",
    "import matplotlib.pyplot as plt\n",
    "%matplotlib inline\n",
    "import tushare as ts"
   ]
  },
  {
   "cell_type": "code",
   "execution_count": 12,
   "metadata": {},
   "outputs": [
    {
     "data": {
      "text/plain": [
       "' code：股票代码，即6位数字代码，或者指数代码（sh=上证指数 sz=深圳成指 hs300=沪深300指数 sz50=上证50 zxb=中小板 cyb=创业板）\\nstart：开始日期，格式YYYY-MM-DD\\nend：结束日期，格式YYYY-MM-DD\\nktype：数据类型，D=日k线 W=周 M=月 5=5分钟 15=15分钟 30=30分钟 60=60分钟，默认为D\\nretry_count：当网络异常后重试次数，默认为3\\npause:重试时停顿秒数，默认为0\\n'"
      ]
     },
     "execution_count": 12,
     "metadata": {},
     "output_type": "execute_result"
    }
   ],
   "source": [
    "\"\"\" code：股票代码，即6位数字代码，或者指数代码（sh=上证指数 sz=深圳成指 hs300=沪深300指数 sz50=上证50 zxb=中小板 cyb=创业板）\n",
    "start：开始日期，格式YYYY-MM-DD\n",
    "end：结束日期，格式YYYY-MM-DD\n",
    "ktype：数据类型，D=日k线 W=周 M=月 5=5分钟 15=15分钟 30=30分钟 60=60分钟，默认为D\n",
    "retry_count：当网络异常后重试次数，默认为3\n",
    "pause:重试时停顿秒数，默认为0\n",
    "\"\"\""
   ]
  },
  {
   "cell_type": "code",
   "execution_count": 14,
   "metadata": {},
   "outputs": [],
   "source": [
    "a = ts.get_hist_data('sh000001' ,start='2016-1-1') #一次性获取全部日k线数据"
   ]
  },
  {
   "cell_type": "code",
   "execution_count": 19,
   "metadata": {},
   "outputs": [
    {
     "data": {
      "text/plain": [
       "open            540\n",
       "high            540\n",
       "close           540\n",
       "low             540\n",
       "volume          540\n",
       "price_change    540\n",
       "p_change        540\n",
       "ma5             540\n",
       "ma10            540\n",
       "ma20            540\n",
       "v_ma5           540\n",
       "v_ma10          540\n",
       "v_ma20          540\n",
       "dtype: int64"
      ]
     },
     "execution_count": 19,
     "metadata": {},
     "output_type": "execute_result"
    }
   ],
   "source": [
    "a.count()"
   ]
  },
  {
   "cell_type": "code",
   "execution_count": 20,
   "metadata": {},
   "outputs": [],
   "source": [
    "b = a.assign(day = pd.to_datetime(a.index) ) \n",
    "#a.assign(w = a['day'].weekday() )\n",
    "\n",
    "#a['w'] = pd.to_datetime(a['w'].index).weekday()\n",
    "#for x in pd.to_datetime(a.index) :\n",
    "   # print(x.weekday())"
   ]
  },
  {
   "cell_type": "code",
   "execution_count": 21,
   "metadata": {},
   "outputs": [
    {
     "data": {
      "text/html": [
       "<div>\n",
       "<style scoped>\n",
       "    .dataframe tbody tr th:only-of-type {\n",
       "        vertical-align: middle;\n",
       "    }\n",
       "\n",
       "    .dataframe tbody tr th {\n",
       "        vertical-align: top;\n",
       "    }\n",
       "\n",
       "    .dataframe thead th {\n",
       "        text-align: right;\n",
       "    }\n",
       "</style>\n",
       "<table border=\"1\" class=\"dataframe\">\n",
       "  <thead>\n",
       "    <tr style=\"text-align: right;\">\n",
       "      <th></th>\n",
       "      <th>open</th>\n",
       "      <th>high</th>\n",
       "      <th>close</th>\n",
       "      <th>low</th>\n",
       "      <th>volume</th>\n",
       "      <th>price_change</th>\n",
       "      <th>p_change</th>\n",
       "      <th>ma5</th>\n",
       "      <th>ma10</th>\n",
       "      <th>ma20</th>\n",
       "      <th>v_ma5</th>\n",
       "      <th>v_ma10</th>\n",
       "      <th>v_ma20</th>\n",
       "      <th>day</th>\n",
       "      <th>weekday</th>\n",
       "    </tr>\n",
       "    <tr>\n",
       "      <th>date</th>\n",
       "      <th></th>\n",
       "      <th></th>\n",
       "      <th></th>\n",
       "      <th></th>\n",
       "      <th></th>\n",
       "      <th></th>\n",
       "      <th></th>\n",
       "      <th></th>\n",
       "      <th></th>\n",
       "      <th></th>\n",
       "      <th></th>\n",
       "      <th></th>\n",
       "      <th></th>\n",
       "      <th></th>\n",
       "      <th></th>\n",
       "    </tr>\n",
       "  </thead>\n",
       "  <tbody>\n",
       "    <tr>\n",
       "      <th>2018-12-19</th>\n",
       "      <td>2578.68</td>\n",
       "      <td>2579.87</td>\n",
       "      <td>2549.56</td>\n",
       "      <td>2547.08</td>\n",
       "      <td>1076618.00</td>\n",
       "      <td>-27.09</td>\n",
       "      <td>-1.05</td>\n",
       "      <td>2590.394</td>\n",
       "      <td>2594.386</td>\n",
       "      <td>2602.360</td>\n",
       "      <td>1277478.05</td>\n",
       "      <td>1207498.00</td>\n",
       "      <td>1389318.69</td>\n",
       "      <td>2018-12-19</td>\n",
       "      <td>2</td>\n",
       "    </tr>\n",
       "    <tr>\n",
       "      <th>2018-12-18</th>\n",
       "      <td>2583.63</td>\n",
       "      <td>2599.15</td>\n",
       "      <td>2576.65</td>\n",
       "      <td>2563.57</td>\n",
       "      <td>1170333.75</td>\n",
       "      <td>-21.32</td>\n",
       "      <td>-0.82</td>\n",
       "      <td>2600.912</td>\n",
       "      <td>2604.411</td>\n",
       "      <td>2607.458</td>\n",
       "      <td>1269191.05</td>\n",
       "      <td>1254338.25</td>\n",
       "      <td>1426786.02</td>\n",
       "      <td>2018-12-18</td>\n",
       "      <td>1</td>\n",
       "    </tr>\n",
       "    <tr>\n",
       "      <th>2018-12-17</th>\n",
       "      <td>2587.26</td>\n",
       "      <td>2598.97</td>\n",
       "      <td>2597.97</td>\n",
       "      <td>2573.87</td>\n",
       "      <td>1173632.50</td>\n",
       "      <td>4.23</td>\n",
       "      <td>0.16</td>\n",
       "      <td>2604.400</td>\n",
       "      <td>2613.342</td>\n",
       "      <td>2610.918</td>\n",
       "      <td>1237733.02</td>\n",
       "      <td>1305245.44</td>\n",
       "      <td>1476214.98</td>\n",
       "      <td>2018-12-17</td>\n",
       "      <td>0</td>\n",
       "    </tr>\n",
       "    <tr>\n",
       "      <th>2018-12-14</th>\n",
       "      <td>2627.28</td>\n",
       "      <td>2629.16</td>\n",
       "      <td>2593.74</td>\n",
       "      <td>2593.74</td>\n",
       "      <td>1459424.88</td>\n",
       "      <td>-40.31</td>\n",
       "      <td>-1.53</td>\n",
       "      <td>2601.722</td>\n",
       "      <td>2619.025</td>\n",
       "      <td>2616.195</td>\n",
       "      <td>1229405.87</td>\n",
       "      <td>1395361.14</td>\n",
       "      <td>1533364.77</td>\n",
       "      <td>2018-12-14</td>\n",
       "      <td>4</td>\n",
       "    </tr>\n",
       "    <tr>\n",
       "      <th>2018-12-13</th>\n",
       "      <td>2607.14</td>\n",
       "      <td>2645.84</td>\n",
       "      <td>2634.05</td>\n",
       "      <td>2599.46</td>\n",
       "      <td>1507381.12</td>\n",
       "      <td>31.90</td>\n",
       "      <td>1.23</td>\n",
       "      <td>2604.152</td>\n",
       "      <td>2618.470</td>\n",
       "      <td>2620.463</td>\n",
       "      <td>1155670.87</td>\n",
       "      <td>1388747.67</td>\n",
       "      <td>1581492.95</td>\n",
       "      <td>2018-12-13</td>\n",
       "      <td>3</td>\n",
       "    </tr>\n",
       "  </tbody>\n",
       "</table>\n",
       "</div>"
      ],
      "text/plain": [
       "               open     high    close      low      volume  price_change  \\\n",
       "date                                                                       \n",
       "2018-12-19  2578.68  2579.87  2549.56  2547.08  1076618.00        -27.09   \n",
       "2018-12-18  2583.63  2599.15  2576.65  2563.57  1170333.75        -21.32   \n",
       "2018-12-17  2587.26  2598.97  2597.97  2573.87  1173632.50          4.23   \n",
       "2018-12-14  2627.28  2629.16  2593.74  2593.74  1459424.88        -40.31   \n",
       "2018-12-13  2607.14  2645.84  2634.05  2599.46  1507381.12         31.90   \n",
       "\n",
       "            p_change       ma5      ma10      ma20       v_ma5      v_ma10  \\\n",
       "date                                                                         \n",
       "2018-12-19     -1.05  2590.394  2594.386  2602.360  1277478.05  1207498.00   \n",
       "2018-12-18     -0.82  2600.912  2604.411  2607.458  1269191.05  1254338.25   \n",
       "2018-12-17      0.16  2604.400  2613.342  2610.918  1237733.02  1305245.44   \n",
       "2018-12-14     -1.53  2601.722  2619.025  2616.195  1229405.87  1395361.14   \n",
       "2018-12-13      1.23  2604.152  2618.470  2620.463  1155670.87  1388747.67   \n",
       "\n",
       "                v_ma20        day  weekday  \n",
       "date                                        \n",
       "2018-12-19  1389318.69 2018-12-19        2  \n",
       "2018-12-18  1426786.02 2018-12-18        1  \n",
       "2018-12-17  1476214.98 2018-12-17        0  \n",
       "2018-12-14  1533364.77 2018-12-14        4  \n",
       "2018-12-13  1581492.95 2018-12-13        3  "
      ]
     },
     "execution_count": 21,
     "metadata": {},
     "output_type": "execute_result"
    }
   ],
   "source": [
    "b.count()\n",
    "#b.assign(w =   lambda x: x.day.weekday   ).head()\n",
    "#print(b.day)\n",
    "#b.day[1].weekday()\n",
    "b['weekday'] = b['day'].dt.dayofweek\n",
    "b.head()"
   ]
  },
  {
   "cell_type": "code",
   "execution_count": 23,
   "metadata": {
    "scrolled": true
   },
   "outputs": [
    {
     "data": {
      "text/html": [
       "<div>\n",
       "<style scoped>\n",
       "    .dataframe tbody tr th:only-of-type {\n",
       "        vertical-align: middle;\n",
       "    }\n",
       "\n",
       "    .dataframe tbody tr th {\n",
       "        vertical-align: top;\n",
       "    }\n",
       "\n",
       "    .dataframe thead th {\n",
       "        text-align: right;\n",
       "    }\n",
       "</style>\n",
       "<table border=\"1\" class=\"dataframe\">\n",
       "  <thead>\n",
       "    <tr style=\"text-align: right;\">\n",
       "      <th></th>\n",
       "      <th>code</th>\n",
       "      <th>name</th>\n",
       "      <th>change</th>\n",
       "      <th>open</th>\n",
       "      <th>preclose</th>\n",
       "      <th>close</th>\n",
       "      <th>high</th>\n",
       "      <th>low</th>\n",
       "      <th>volume</th>\n",
       "      <th>amount</th>\n",
       "    </tr>\n",
       "  </thead>\n",
       "  <tbody>\n",
       "    <tr>\n",
       "      <th>0</th>\n",
       "      <td>000001</td>\n",
       "      <td>上证指数</td>\n",
       "      <td>0.42</td>\n",
       "      <td>2651.5613</td>\n",
       "      <td>2654.7980</td>\n",
       "      <td>2665.9577</td>\n",
       "      <td>2666.0784</td>\n",
       "      <td>2644.8964</td>\n",
       "      <td>167940558</td>\n",
       "      <td>1441.4340</td>\n",
       "    </tr>\n",
       "    <tr>\n",
       "      <th>1</th>\n",
       "      <td>000002</td>\n",
       "      <td>Ａ股指数</td>\n",
       "      <td>0.42</td>\n",
       "      <td>2776.5901</td>\n",
       "      <td>2779.9882</td>\n",
       "      <td>2791.6842</td>\n",
       "      <td>2791.8220</td>\n",
       "      <td>2769.5943</td>\n",
       "      <td>167683765</td>\n",
       "      <td>1440.1107</td>\n",
       "    </tr>\n",
       "    <tr>\n",
       "      <th>2</th>\n",
       "      <td>000003</td>\n",
       "      <td>Ｂ股指数</td>\n",
       "      <td>0.30</td>\n",
       "      <td>284.2697</td>\n",
       "      <td>284.3212</td>\n",
       "      <td>285.1799</td>\n",
       "      <td>285.1799</td>\n",
       "      <td>283.7949</td>\n",
       "      <td>256793</td>\n",
       "      <td>1.3233</td>\n",
       "    </tr>\n",
       "    <tr>\n",
       "      <th>3</th>\n",
       "      <td>000008</td>\n",
       "      <td>综合指数</td>\n",
       "      <td>0.27</td>\n",
       "      <td>2571.4604</td>\n",
       "      <td>2574.5833</td>\n",
       "      <td>2581.6136</td>\n",
       "      <td>2582.3963</td>\n",
       "      <td>2565.4038</td>\n",
       "      <td>34618853</td>\n",
       "      <td>317.7034</td>\n",
       "    </tr>\n",
       "    <tr>\n",
       "      <th>4</th>\n",
       "      <td>000009</td>\n",
       "      <td>上证380</td>\n",
       "      <td>0.54</td>\n",
       "      <td>4138.0398</td>\n",
       "      <td>4144.1871</td>\n",
       "      <td>4166.3986</td>\n",
       "      <td>4166.8364</td>\n",
       "      <td>4124.5993</td>\n",
       "      <td>40491848</td>\n",
       "      <td>327.9088</td>\n",
       "    </tr>\n",
       "  </tbody>\n",
       "</table>\n",
       "</div>"
      ],
      "text/plain": [
       "     code   name  change       open   preclose      close       high  \\\n",
       "0  000001   上证指数    0.42  2651.5613  2654.7980  2665.9577  2666.0784   \n",
       "1  000002   Ａ股指数    0.42  2776.5901  2779.9882  2791.6842  2791.8220   \n",
       "2  000003   Ｂ股指数    0.30   284.2697   284.3212   285.1799   285.1799   \n",
       "3  000008   综合指数    0.27  2571.4604  2574.5833  2581.6136  2582.3963   \n",
       "4  000009  上证380    0.54  4138.0398  4144.1871  4166.3986  4166.8364   \n",
       "\n",
       "         low     volume     amount  \n",
       "0  2644.8964  167940558  1441.4340  \n",
       "1  2769.5943  167683765  1440.1107  \n",
       "2   283.7949     256793     1.3233  \n",
       "3  2565.4038   34618853   317.7034  \n",
       "4  4124.5993   40491848   327.9088  "
      ]
     },
     "execution_count": 23,
     "metadata": {},
     "output_type": "execute_result"
    }
   ],
   "source": [
    "ts.get_index().head()"
   ]
  },
  {
   "cell_type": "code",
   "execution_count": 22,
   "metadata": {},
   "outputs": [],
   "source": [
    "t1 = b[b['price_change']>0] \n",
    "#'0 MONDAY 列出 全部上涨的次数'"
   ]
  },
  {
   "cell_type": "code",
   "execution_count": 23,
   "metadata": {},
   "outputs": [
    {
     "data": {
      "text/plain": [
       "weekday\n",
       "0    57\n",
       "1    69\n",
       "2    49\n",
       "3    50\n",
       "4    62\n",
       "dtype: int64"
      ]
     },
     "execution_count": 23,
     "metadata": {},
     "output_type": "execute_result"
    }
   ],
   "source": [
    "t1.groupby('weekday').size()"
   ]
  },
  {
   "cell_type": "code",
   "execution_count": 24,
   "metadata": {},
   "outputs": [],
   "source": [
    "t2 = b[b['price_change']<0] \n",
    "#'0 MONDAY 列出 全部下跌的次数'"
   ]
  },
  {
   "cell_type": "code",
   "execution_count": 11,
   "metadata": {},
   "outputs": [
    {
     "data": {
      "text/plain": [
       "weekday\n",
       "0    52\n",
       "1    43\n",
       "2    69\n",
       "3    67\n",
       "4    54\n",
       "dtype: int64"
      ]
     },
     "execution_count": 11,
     "metadata": {},
     "output_type": "execute_result"
    }
   ],
   "source": [
    "t2.groupby('weekday').size()"
   ]
  },
  {
   "cell_type": "code",
   "execution_count": 25,
   "metadata": {},
   "outputs": [
    {
     "data": {
      "text/plain": [
       "open            253\n",
       "high            253\n",
       "close           253\n",
       "low             253\n",
       "volume          253\n",
       "price_change    253\n",
       "p_change        253\n",
       "ma5             253\n",
       "ma10            253\n",
       "ma20            253\n",
       "v_ma5           253\n",
       "v_ma10          253\n",
       "v_ma20          253\n",
       "day             253\n",
       "weekday         253\n",
       "dtype: int64"
      ]
     },
     "execution_count": 25,
     "metadata": {},
     "output_type": "execute_result"
    }
   ],
   "source": [
    "t2.count()"
   ]
  },
  {
   "cell_type": "code",
   "execution_count": 26,
   "metadata": {},
   "outputs": [
    {
     "data": {
      "text/plain": [
       "open            287\n",
       "high            287\n",
       "close           287\n",
       "low             287\n",
       "volume          287\n",
       "price_change    287\n",
       "p_change        287\n",
       "ma5             287\n",
       "ma10            287\n",
       "ma20            287\n",
       "v_ma5           287\n",
       "v_ma10          287\n",
       "v_ma20          287\n",
       "day             287\n",
       "weekday         287\n",
       "dtype: int64"
      ]
     },
     "execution_count": 26,
     "metadata": {},
     "output_type": "execute_result"
    }
   ],
   "source": [
    "t1.count()"
   ]
  },
  {
   "cell_type": "code",
   "execution_count": null,
   "metadata": {},
   "outputs": [],
   "source": []
  }
 ],
 "metadata": {
  "kernelspec": {
   "display_name": "Python 3",
   "language": "python",
   "name": "python3"
  },
  "language_info": {
   "codemirror_mode": {
    "name": "ipython",
    "version": 3
   },
   "file_extension": ".py",
   "mimetype": "text/x-python",
   "name": "python",
   "nbconvert_exporter": "python",
   "pygments_lexer": "ipython3",
   "version": "3.6.4"
  }
 },
 "nbformat": 4,
 "nbformat_minor": 2
}
