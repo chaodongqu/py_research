{
 "cells": [
  {
   "cell_type": "code",
   "execution_count": 1,
   "metadata": {},
   "outputs": [
    {
     "name": "stdout",
     "output_type": "stream",
     "text": [
      "b'v_s_sh600050=\"1~\\xd6\\xd0\\xb9\\xfa\\xc1\\xaa\\xcd\\xa8~600050~5.13~0.12~2.40~1032093~52197~~1591.73\";\\n'\n"
     ]
    }
   ],
   "source": [
    "#获取股价，并告警\n",
    "import re\n",
    "from urllib import request\n",
    "# http://qt.gtimg.cn/?q=s_sh600050\n",
    "# v_s_sh600050=\"1~中国联通~600050~5.13~0.12~2.40~1032093~52197~~1591.73\";\n",
    "# 当前价格 5.13 涨幅2.40\\\n",
    "#q=s_sz300251,s_sh600050, s_sz ,s_sh\n",
    "resp = request.urlopen('http://qt.gtimg.cn', data=b'q=s_sh600050', timeout=10)\n",
    "print(resp.read())\n"
   ]
  },
  {
   "cell_type": "code",
   "execution_count": 44,
   "metadata": {},
   "outputs": [],
   "source": [
    "def get_stock_price( s_code):\n",
    "    resp = request.urlopen('http://qt.gtimg.cn' , data = b'q='+ bytes( s_code , encoding = \"utf8\"))\n",
    "    return resp.read().decode('gb2312')\n",
    "\n",
    "#返回：股票名称，当前价格，涨价格，涨幅度\n",
    "def get_vals(str):\n",
    "    matchObj = re.match( r'[^~]+~([^~]+)~[^~]+~([^~]+)~([^~]+)~([^~]+)~', str, re.M|re.I)     \n",
    "\n",
    "    if matchObj:\n",
    "        #rint(\"found\")\n",
    "        return(matchObj.group(1) ,\n",
    "               float(matchObj.group(2)) ,\n",
    "               float(matchObj.group(3)),\n",
    "               float(matchObj.group(4)) )\n",
    "        \n",
    "    else:\n",
    "        print(\"not found\")\n",
    "        \n",
    "#600050 -->s_sh600050\n",
    "#002268 --> s_sz002268\n",
    "def stand_code( code):\n",
    "    if code.startswith('60'):\n",
    "        return 's_sh'+code\n",
    "    else:\n",
    "        return 's_sz'+code\n",
    "\n",
    "def monitor_stock( stock_condition):\n",
    "    (code ,p_type , compare_type,val) = stock_condition\n",
    "    \n",
    "    scode = stand_code(code)\n",
    "    code_info = get_stock_price(scode)\n",
    "    x = get_vals(code_info)\n",
    "    \n",
    "    #股票当前信息，名称，价格，涨值，涨幅\n",
    "    (s_name, price,inc,inc_perc)=x\n",
    "    print(x)\n",
    "    \n",
    "    if(  p_type  == 'price'  ):\n",
    "        print('price')\n",
    "        if( '>' == compare_type) :\n",
    "            print(\">\")\n",
    "            if( price > val) :\n",
    "                print(\"Alarm me \")\n",
    "                \n",
    "        elif( '<' == compare_type):\n",
    "            print(\"<\")     \n",
    "            if( price < val) :\n",
    "                print(\"Alarm me \")\n",
    "                \n",
    "    elif( 'percent' == p_type):\n",
    "        print('percent')\n",
    "        if( '>' == compare_type) :\n",
    "            print(\">\")\n",
    "            if( inc_perc > val) :\n",
    "                print(\"Alarm me \")\n",
    "                \n",
    "        elif( '<' == compare_type):\n",
    "            print(\"<\")\n",
    "            if( inc_perc < val) :\n",
    "                print(\"Alarm me \")\n",
    "        \n"
   ]
  },
  {
   "cell_type": "code",
   "execution_count": 3,
   "metadata": {},
   "outputs": [
    {
     "name": "stdout",
     "output_type": "stream",
     "text": [
      "中国联通 5.13 0.12 2.40\n"
     ]
    }
   ],
   "source": [
    "x = get_stock_price('s_sh600050')\n",
    "y = get_vals(x)\n",
    "(a,b,c,d)=y\n",
    "print(a,b,c,d)\n",
    "    "
   ]
  },
  {
   "cell_type": "code",
   "execution_count": 37,
   "metadata": {},
   "outputs": [
    {
     "name": "stdout",
     "output_type": "stream",
     "text": [
      "('600050', 'price', '>', 5.0)\n",
      "('中国联通', 5.13, 0.12, 2.4)\n",
      "price\n",
      ">\n",
      "Alarm me \n"
     ]
    }
   ],
   "source": [
    "##input: code,price,>,5.13\n",
    "######   code,percent,>,1.0\n",
    "monitors=[]\n",
    "monitors.append(('600050','price','>' ,5.0 ) )\n",
    "for x in monitors:\n",
    "    print (x)    \n",
    "    monitor_stock(x)\n"
   ]
  },
  {
   "cell_type": "code",
   "execution_count": 43,
   "metadata": {},
   "outputs": [],
   "source": [
    "\n",
    "    "
   ]
  },
  {
   "cell_type": "code",
   "execution_count": null,
   "metadata": {},
   "outputs": [],
   "source": []
  },
  {
   "cell_type": "code",
   "execution_count": 129,
   "metadata": {},
   "outputs": [
    {
     "name": "stdout",
     "output_type": "stream",
     "text": [
      "found\n",
      "中国联通\n",
      "5.13\n",
      "0.12\n",
      "2.40\n"
     ]
    }
   ],
   "source": [
    "##v_s_sz002268=\"51~卫 士 通~002268~18.10~0.83~4.81~122279~21905~~151.74\";\n",
    "\n",
    "matchObj = re.match( r'[^~]+~([^~]+)~[^~]+~([^~]+)~([^~]+)~([^~]+)~', str, re.M|re.I) \n",
    "if matchObj:\n",
    "    print(\"found\")\n",
    "    print(matchObj.group(1))\n",
    "    print(matchObj.group(2))\n",
    "    print(matchObj.group(3))\n",
    "    print(matchObj.group(4))\n",
    "    \n",
    "else:\n",
    "    print(\"not found\")\n"
   ]
  },
  {
   "cell_type": "code",
   "execution_count": 42,
   "metadata": {},
   "outputs": [
    {
     "data": {
      "text/plain": [
       "32512"
      ]
     },
     "execution_count": 42,
     "metadata": {},
     "output_type": "execute_result"
    }
   ],
   "source": []
  },
  {
   "cell_type": "code",
   "execution_count": null,
   "metadata": {},
   "outputs": [],
   "source": []
  },
  {
   "cell_type": "code",
   "execution_count": 31,
   "metadata": {},
   "outputs": [],
   "source": []
  },
  {
   "cell_type": "code",
   "execution_count": null,
   "metadata": {},
   "outputs": [],
   "source": []
  }
 ],
 "metadata": {
  "kernelspec": {
   "display_name": "Python 3",
   "language": "python",
   "name": "python3"
  },
  "language_info": {
   "codemirror_mode": {
    "name": "ipython",
    "version": 3
   },
   "file_extension": ".py",
   "mimetype": "text/x-python",
   "name": "python",
   "nbconvert_exporter": "python",
   "pygments_lexer": "ipython3",
   "version": "3.6.4"
  }
 },
 "nbformat": 4,
 "nbformat_minor": 2
}
