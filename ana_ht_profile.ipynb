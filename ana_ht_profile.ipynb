{
 "cells": [
  {
   "cell_type": "code",
   "execution_count": 1,
   "metadata": {},
   "outputs": [
    {
     "name": "stdout",
     "output_type": "stream",
     "text": [
      "Populating the interactive namespace from numpy and matplotlib\n"
     ]
    }
   ],
   "source": [
    "import numpy as np\n",
    "import pandas as pd \n",
    "%pylab inline\n",
    "import matplotlib.pyplot as plt\n",
    "# 分析华泰账户数据"
   ]
  },
  {
   "cell_type": "code",
   "execution_count": 48,
   "metadata": {},
   "outputs": [],
   "source": [
    "\n",
    "\n",
    "class StockProfile:\n",
    "    code=''\n",
    "    start_buy_date=''\n",
    "    end_date=''\n",
    "    max_pay=0\n",
    "    \n",
    "    buy = 0;\n",
    "    vol_hold = 0;\n",
    "    \n",
    "    def __init__(self, code):\n",
    "        self.code = code\n",
    "\n",
    "    def info(self ):\n",
    "        print( self.code , \n",
    "              '\\t' ,self.start_buy_date,\n",
    "              '\\t' ,self.end_date,\n",
    "              '\\t' , self.buy,\n",
    "              '\\t' ,self.end_date - self.start_buy_date,\n",
    "              '');\n",
    "    \n",
    "    def OnHandle(self , row):\n",
    "        flag = row['flag']\n",
    "        money = row['money']        \n",
    "        vol = row['vol']  \n",
    "        \n",
    "        if(self.buy == 0 ):\n",
    "            self.start_buy_date = row['date1']\n",
    "        \n",
    "        if( flag.find('证券买入') == 0 ):\n",
    "            self.buy = self.buy - money\n",
    "            self.vol_hold = self.vol_hold + vol\n",
    "            #print(self.buy , ' -' , money)\n",
    "        elif(  flag.find('证券卖出') == 0  ):\n",
    "            self.buy = self.buy + money\n",
    "            # 注意 华泰导出数据，卖出vol 用负数表示\n",
    "            self.vol_hold =self.vol_hold + vol\n",
    "            #print(self.buy , ' + ' , money)\n",
    "        else :\n",
    "            return 0\n",
    "            \n",
    "        if self.vol_hold ==0 :\n",
    "            # 本次利润计算结束\n",
    "            #print ('after saled out, earn :\\t',  self.buy );\n",
    "            #self.buy = 0;\n",
    "            #self.vol_hold = 0;   \n",
    "            #print ('start new ')\n",
    "            self.end_date=row['date1']\n",
    "            return 1 \n",
    "        \n",
    "        elif self.vol_hold < 0 :\n",
    "            # erro data\n",
    "            print ('can not caculate  ' , self.code)\n",
    "            self.buy = 0;\n",
    "            self.vol_hold = 0;    \n",
    "        \n",
    "        return 0;\n",
    "\n",
    "\n",
    "def getCodeData(name , oneCodeData):\n",
    "    a1 = oneCodeData.sort_values(['date1'])\n",
    "    return a1\n",
    "\n",
    "# 计算收益\n",
    "def cacCodeRet( code, codeDetail):\n",
    "    \n",
    "    sp = StockProfile(code);\n",
    "    \n",
    "    for index, row in codeDetail.iterrows():\n",
    "        ret = sp.OnHandle(row)\n",
    "        if( 1 == ret ):\n",
    "            #print('----');\n",
    "            allProfiles.append(sp)\n",
    "            \n",
    "            # 新建对象\n",
    "            sp = StockProfile(code);\n",
    "            \n",
    "        \n",
    "    return ;\n"
   ]
  },
  {
   "cell_type": "code",
   "execution_count": 86,
   "metadata": {},
   "outputs": [
    {
     "name": "stdout",
     "output_type": "stream",
     "text": [
      "['date1', 'code', 'name', 'flag', 'price', 'vol', 'money']\n",
      "can not caculate   2797\n",
      "can not caculate   2815\n",
      "can not caculate   300726\n",
      "\n",
      "2384 \t 20200205 \t 20200211 \t 999.0 \t 6 \n",
      "300037 \t 20200205 \t 20200212 \t 273.0 \t 7 \n",
      "300377 \t 20200212 \t 20200217 \t 952.0 \t 5 \n",
      "300450 \t 20200205 \t 20200211 \t 246.0 \t 6 \n",
      "300498 \t 20200217 \t 20200219 \t 714.0 \t 2 \n",
      "300726 \t 20200206 \t 20200207 \t 240.0 \t 1 \n",
      "300726 \t 20200213 \t 20200219 \t 874.0 \t 6 \n",
      "600516 \t 20200206 \t 20200210 \t 30.0 \t 4 \n",
      "603730 \t 20200205 \t 20200206 \t 284.0 \t 1 \n",
      "603960 \t 20200205 \t 20200206 \t 225.0 \t 1 \n"
     ]
    }
   ],
   "source": [
    "\n",
    "# 清洗数据\n",
    "allProfiles = [];\n",
    "data={}\n",
    "#fileName='/Users/quchaodong/stu/py_research/tmp/ht/1his_ht2020.xls'\n",
    "#data = pd.read_excel(fileName )\n",
    "fileName='/Users/quchaodong/stu/py_research/tmp/ht/his_ht2020.xls'\n",
    "data = pd.read_csv( fileName,   sep='\\t',encoding='gbk')\n",
    "#print(data.head())\n",
    "colMap =  {\n",
    "            \"成交日期\": \"date1\",        \n",
    "            \"证券代码\": \"code\",\n",
    "            \"证券名称\":\"name\",\n",
    "            \"操作\":\"flag\",\n",
    "             \"成交均价\":\"price\",\n",
    "            \"成交数量\":\"vol\",\n",
    "            \"成交金额\":\"money\"}\n",
    "\n",
    "\n",
    "dt = data.rename(columns=colMap  ) \n",
    "usedCol = list(colMap.values()) \n",
    "print( usedCol )\n",
    "\n",
    "# 按照代码分组\n",
    "g= dt[usedCol].groupby('code')\n",
    "allCodeDetail={}\n",
    "\n",
    "for name, group in g:\n",
    "    x = getCodeData (name , group)\n",
    "    #print(x)\n",
    "    allCodeDetail[name] = x\n",
    "    \n",
    "#计算每个股票收益    \n",
    "#print(allCodeDetail[21])\n",
    "for x in allCodeDetail:\n",
    "    cacCodeRet( x , allCodeDetail[x])\n",
    "\n",
    "print('')\n",
    "\n",
    "for s in allProfiles:\n",
    "    #print(s)\n",
    "    s.info()"
   ]
  },
  {
   "cell_type": "code",
   "execution_count": 66,
   "metadata": {},
   "outputs": [],
   "source": [
    "#按照日期，计算获利信息\n",
    "earnsCode=[]\n",
    "for s in allProfiles:\n",
    "    a = {'code':s.code , 'earn':s.buy , \n",
    "         'in_date':s.start_buy_date,\n",
    "         'hold_days':s.end_date - s.start_buy_date}\n",
    "    earnsCode.append(a)\n",
    "dt_earn = pd.DataFrame(earnsCode)\n",
    "dt_a= dt_earn.sort_values('in_date').reset_index()"
   ]
  },
  {
   "cell_type": "code",
   "execution_count": 78,
   "metadata": {},
   "outputs": [
    {
     "data": {
      "text/plain": [
       "<matplotlib.axes._subplots.AxesSubplot at 0x123783e50>"
      ]
     },
     "execution_count": 78,
     "metadata": {},
     "output_type": "execute_result"
    },
    {
     "data": {
      "image/png": "[encoded data removed]",
      "text/plain": [
       "<Figure size 432x288 with 1 Axes>"
      ]
     },
     "metadata": {
      "needs_background": "light"
     },
     "output_type": "display_data"
    }
   ],
   "source": [
    "dt_a['hold_days'].plot.bar()"
   ]
  },
  {
   "cell_type": "code",
   "execution_count": 80,
   "metadata": {},
   "outputs": [
    {
     "data": {
      "text/plain": [
       "<matplotlib.axes._subplots.AxesSubplot at 0x1275d6c10>"
      ]
     },
     "execution_count": 80,
     "metadata": {},
     "output_type": "execute_result"
    },
    {
     "data": {
      "image/png": "[encoded data removed]",
      "text/plain": [
       "<Figure size 432x288 with 1 Axes>"
      ]
     },
     "metadata": {
      "needs_background": "light"
     },
     "output_type": "display_data"
    }
   ],
   "source": [
    "dt_a['earn'].plot.bar()"
   ]
  },
  {
   "cell_type": "code",
   "execution_count": null,
   "metadata": {},
   "outputs": [],
   "source": []
  }
 ],
 "metadata": {
  "kernelspec": {
   "display_name": "Python 3",
   "language": "python",
   "name": "python3"
  },
  "language_info": {
   "codemirror_mode": {
    "name": "ipython",
    "version": 3
   },
   "file_extension": ".py",
   "mimetype": "text/x-python",
   "name": "python",
   "nbconvert_exporter": "python",
   "pygments_lexer": "ipython3",
   "version": "3.7.4"
  }
 },
 "nbformat": 4,
 "nbformat_minor": 2
}
