{
 "metadata": {
  "name": "",
  "signature": "sha256:56fd98357eea96cd534a5d27f759ef4a01585a5b8dec82919b71f08dd5f4dce4"
 },
 "nbformat": 3,
 "nbformat_minor": 0,
 "worksheets": [
  {
   "cells": [
    {
     "cell_type": "code",
     "collapsed": false,
     "input": [
      "import numpy as np\n",
      "#"
     ],
     "language": "python",
     "metadata": {},
     "outputs": [],
     "prompt_number": 1
    },
    {
     "cell_type": "code",
     "collapsed": false,
     "input": [
      "# \u6570\u7ec4\u57fa\u672c\u64cd\u4f5c\n",
      "a = np.arange(15).reshape(3, 5)\n",
      "print a,'\\n', a.dtype.name , '\\n' , a.ndim\n"
     ],
     "language": "python",
     "metadata": {},
     "outputs": [
      {
       "output_type": "stream",
       "stream": "stdout",
       "text": [
        "[[ 0  1  2  3  4]\n",
        " [ 5  6  7  8  9]\n",
        " [10 11 12 13 14]] \n",
        "int32 \n",
        "2\n"
       ]
      }
     ],
     "prompt_number": 8
    },
    {
     "cell_type": "code",
     "collapsed": false,
     "input": [
      "#\u904d\u5386\u6570\u7ec4\n",
      "for x in a :\n",
      "    for y in x :\n",
      "        print y"
     ],
     "language": "python",
     "metadata": {},
     "outputs": [
      {
       "output_type": "stream",
       "stream": "stdout",
       "text": [
        "0\n",
        "1\n",
        "2\n",
        "3\n",
        "4\n",
        "5\n",
        "6\n",
        "7\n",
        "8\n",
        "9\n",
        "10\n",
        "11\n",
        "12\n",
        "13\n",
        "14\n"
       ]
      }
     ],
     "prompt_number": 4
    },
    {
     "cell_type": "code",
     "collapsed": false,
     "input": [
      "#create array\n",
      "#\u6570\u7ec4\n",
      "x = [1,23,34]\n",
      "b = np.array(x)\n",
      "print b\n",
      "#zero\n",
      "b = np.zeros( (3,4) )\n",
      "print b\n",
      "\n",
      "#\u5355\u4f4d\u77e9\u9635\n",
      "b = np.ones( (5,4), dtype=np.int16 )\n",
      "print b\n",
      "\n",
      "#sequences \u6570\u503c\n",
      "b = np.arange( 10, 30, 2 )\n",
      "print b"
     ],
     "language": "python",
     "metadata": {},
     "outputs": [
      {
       "output_type": "stream",
       "stream": "stdout",
       "text": [
        "[ 1 23 34]\n",
        "[[ 0.  0.  0.  0.]\n",
        " [ 0.  0.  0.  0.]\n",
        " [ 0.  0.  0.  0.]]\n",
        "[[1 1 1 1]\n",
        " [1 1 1 1]\n",
        " [1 1 1 1]\n",
        " [1 1 1 1]\n",
        " [1 1 1 1]]\n",
        "[10 12 14 16 18 20 22 24 26 28]\n"
       ]
      }
     ],
     "prompt_number": 19
    },
    {
     "cell_type": "code",
     "collapsed": false,
     "input": [
      "#\u57fa\u672c\u64cd\u4f5c\n",
      "a = np.array( [20,30,40,50] )\n",
      "b = np.arange( 4 )\n",
      "print b\n",
      "c = a-b\n",
      "print c "
     ],
     "language": "python",
     "metadata": {},
     "outputs": [
      {
       "output_type": "stream",
       "stream": "stdout",
       "text": [
        "[0 1 2 3]\n",
        "[20 29 38 47]\n"
       ]
      }
     ],
     "prompt_number": 21
    },
    {
     "cell_type": "code",
     "collapsed": false,
     "input": [],
     "language": "python",
     "metadata": {},
     "outputs": []
    }
   ],
   "metadata": {}
  }
 ]
}