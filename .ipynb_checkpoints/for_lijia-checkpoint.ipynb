{
 "cells": [
  {
   "cell_type": "code",
   "execution_count": 1,
   "metadata": {},
   "outputs": [
    {
     "name": "stdout",
     "output_type": "stream",
     "text": [
      "Populating the interactive namespace from numpy and matplotlib\n"
     ]
    }
   ],
   "source": [
    "import numpy as np\n",
    "import pandas as pd \n",
    "%pylab inline\n",
    "import matplotlib.pyplot as plt\n",
    "    "
   ]
  },
  {
   "cell_type": "code",
   "execution_count": 3,
   "metadata": {},
   "outputs": [
    {
     "data": {
      "text/plain": [
       "array([1, 2, 3, 4, 5, 6, 7, 8, 9])"
      ]
     },
     "execution_count": 3,
     "metadata": {},
     "output_type": "execute_result"
    }
   ],
   "source": [
    "np.arange(1,10)"
   ]
  },
  {
   "cell_type": "code",
   "execution_count": 23,
   "metadata": {},
   "outputs": [
    {
     "name": "stdout",
     "output_type": "stream",
     "text": [
      "E:\\invest\\new_gxzq_v6\\T0002\\export\\SH#600011.txt\n"
     ]
    }
   ],
   "source": [
    "#dataPath = \"E:/professional/study_F/py/data/SH600249.txt\"\n",
    "dataPath =\"E:\\\\invest\\\\new_gxzq_v6\\\\T0002\\\\export\\\\SH#600011.txt\"\n",
    "print dataPath\n",
    "names=[\"date\",\"open\",\"high\",\"low\",\"close\",\"vol\",\"vol_m\"]"
   ]
  },
  {
   "cell_type": "code",
   "execution_count": 24,
   "metadata": {},
   "outputs": [],
   "source": [
    "x = pd.read_csv(dataPath,sep=',',skiprows=2,names =names,index_col=0)"
   ]
  },
  {
   "cell_type": "code",
   "execution_count": 25,
   "metadata": {},
   "outputs": [],
   "source": [
    "x = x[:-1]\n",
    "x.index = pd.to_datetime(x.index)"
   ]
  },
  {
   "cell_type": "code",
   "execution_count": 27,
   "metadata": {},
   "outputs": [
    {
     "name": "stdout",
     "output_type": "stream",
     "text": [
      "6516\n",
      "False\n"
     ]
    },
    {
     "data": {
      "text/plain": [
       "2013-03-05    4.95\n",
       "2013-03-06    5.22\n",
       "2013-03-07    5.19\n",
       "2013-03-08    5.35\n",
       "2013-03-11    5.17\n",
       "2013-03-12    5.11\n",
       "2013-03-13    5.06\n",
       "2013-03-14    4.79\n",
       "2013-03-15    4.92\n",
       "Name: open, dtype: float64"
      ]
     },
     "execution_count": 27,
     "metadata": {},
     "output_type": "execute_result"
    }
   ],
   "source": [
    "print x.size\n",
    "print x['open'][1:10].max()==2.30\n",
    "x1 = x['open']\n",
    "x1[1:10]\n",
    "#print x1"
   ]
  },
  {
   "cell_type": "code",
   "execution_count": 28,
   "metadata": {},
   "outputs": [
    {
     "data": {
      "text/plain": [
       "[<matplotlib.lines.Line2D at 0x9f10c50>]"
      ]
     },
     "execution_count": 28,
     "metadata": {},
     "output_type": "execute_result"
    },
    {
     "data": {
      "image/png": "[encoded data removed]",
      "text/plain": [
       "<matplotlib.figure.Figure at 0x9ed5ed0>"
      ]
     },
     "metadata": {},
     "output_type": "display_data"
    }
   ],
   "source": [
    "plt.plot(x.index , x['close'])\n"
   ]
  },
  {
   "cell_type": "code",
   "execution_count": 29,
   "metadata": {},
   "outputs": [],
   "source": [
    "def test_min_max(data):\n",
    "    #输入dataframe \n",
    "    val_cac = data['open']\n",
    "    n = val_cac.size\n",
    "\n",
    "    # cur 为前后5日最大值 输出 val +  datetime\n",
    "    #cur 为前后5日最小值  输出 val -  datetme\n",
    "    retv=[]\n",
    "    retd=[]\n",
    "    retf=[]\n",
    "    \n",
    "    for i in range(5,n-6):\n",
    "        y = val_cac[i-5:i+5]\n",
    "        if(y.max() == val_cac[i]):\n",
    "            #print val_cac[i] , val_cac.index[i] , '+'\n",
    "            retv.append(val_cac[i] )\n",
    "            retd.append(val_cac.index[i] )\n",
    "            retf.append(1)\n",
    "        elif (y.min() == val_cac[i]):\n",
    "            #print val_cac[i] , val_cac.index[i] , '-'\n",
    "            retv.append(val_cac[i] )\n",
    "            retd.append(val_cac.index[i] )\n",
    "            retf.append(0)\n",
    "    df = pd.DataFrame( {'v':retv ,'d':retd,'date':retd , 'f':retf})\n",
    "    df = df.set_index('d')\n",
    "    return df"
   ]
  },
  {
   "cell_type": "code",
   "execution_count": 35,
   "metadata": {},
   "outputs": [
    {
     "data": {
      "image/png": "[encoded data removed]",
      "text/plain": [
       "<matplotlib.figure.Figure at 0xadb0830>"
      ]
     },
     "metadata": {},
     "output_type": "display_data"
    }
   ],
   "source": [
    "df = test_min_max(x)\n",
    "df_test = df[(df.date>'2017-8-1') & (df.date<'2018-8-1')]\n",
    "plt.plot(df['v'])\n",
    "\n",
    "df.to_csv('rex_minmax.csv')"
   ]
  },
  {
   "cell_type": "code",
   "execution_count": 30,
   "metadata": {},
   "outputs": [
    {
     "data": {
      "text/plain": [
       "[<matplotlib.lines.Line2D at 0xa2c68d0>]"
      ]
     },
     "execution_count": 30,
     "metadata": {},
     "output_type": "execute_result"
    },
    {
     "data": {
      "image/png": "[encoded data removed]",
      "text/plain": [
       "<matplotlib.figure.Figure at 0xa19edd0>"
      ]
     },
     "metadata": {},
     "output_type": "display_data"
    }
   ],
   "source": [
    "y1 = x[(x.index>'2017-8-1')&(x.index<'2018-8-1')]\n",
    "plt.plot(y1['open'])"
   ]
  },
  {
   "cell_type": "code",
   "execution_count": null,
   "metadata": {},
   "outputs": [],
   "source": []
  }
 ],
 "metadata": {
  "kernelspec": {
   "display_name": "Python 3",
   "language": "python",
   "name": "python3"
  },
  "language_info": {
   "codemirror_mode": {
    "name": "ipython",
    "version": 3
   },
   "file_extension": ".py",
   "mimetype": "text/x-python",
   "name": "python",
   "nbconvert_exporter": "python",
   "pygments_lexer": "ipython3",
   "version": "3.6.4"
  }
 },
 "nbformat": 4,
 "nbformat_minor": 1
}
