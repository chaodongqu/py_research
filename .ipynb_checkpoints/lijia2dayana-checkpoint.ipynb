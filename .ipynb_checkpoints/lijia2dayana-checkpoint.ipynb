{
 "cells": [
  {
   "cell_type": "code",
   "execution_count": 1,
   "metadata": {},
   "outputs": [
    {
     "name": "stdout",
     "output_type": "stream",
     "text": [
      "Populating the interactive namespace from numpy and matplotlib\n"
     ]
    }
   ],
   "source": [
    "import numpy as np\n",
    "import pandas as pd \n",
    "%pylab inline\n",
    "import matplotlib.pyplot as plt\n"
   ]
  },
  {
   "cell_type": "code",
   "execution_count": 4,
   "metadata": {},
   "outputs": [
    {
     "name": "stdout",
     "output_type": "stream",
     "text": [
      "/Users/quchaodong/stu/tmp/export/SH#600009.txt\n"
     ]
    }
   ],
   "source": [
    "dataPath =\"/Users/quchaodong/stu/tmp/export/SH#600009.txt\"\n",
    "print (dataPath)\n",
    "names=[\"date\",\"open\",\"high\",\"low\",\"close\",\"vol\",\"vol_m\"]\n",
    "x = pd.read_csv(dataPath,sep='\\t',skiprows=2,names =names,index_col=0,encoding='gbk')"
   ]
  },
  {
   "cell_type": "code",
   "execution_count": 30,
   "metadata": {},
   "outputs": [],
   "source": [
    "s = x.iloc[:,0].size\n",
    "val = x.iloc[s-4:s-1]"
   ]
  },
  {
   "cell_type": "code",
   "execution_count": 31,
   "metadata": {},
   "outputs": [
    {
     "data": {
      "text/html": [
       "<div>\n",
       "<style scoped>\n",
       "    .dataframe tbody tr th:only-of-type {\n",
       "        vertical-align: middle;\n",
       "    }\n",
       "\n",
       "    .dataframe tbody tr th {\n",
       "        vertical-align: top;\n",
       "    }\n",
       "\n",
       "    .dataframe thead th {\n",
       "        text-align: right;\n",
       "    }\n",
       "</style>\n",
       "<table border=\"1\" class=\"dataframe\">\n",
       "  <thead>\n",
       "    <tr style=\"text-align: right;\">\n",
       "      <th></th>\n",
       "      <th>open</th>\n",
       "      <th>high</th>\n",
       "      <th>low</th>\n",
       "      <th>close</th>\n",
       "      <th>vol</th>\n",
       "      <th>vol_m</th>\n",
       "    </tr>\n",
       "    <tr>\n",
       "      <th>date</th>\n",
       "      <th></th>\n",
       "      <th></th>\n",
       "      <th></th>\n",
       "      <th></th>\n",
       "      <th></th>\n",
       "      <th></th>\n",
       "    </tr>\n",
       "  </thead>\n",
       "  <tbody>\n",
       "    <tr>\n",
       "      <th>2018/10/15</th>\n",
       "      <td>54.61</td>\n",
       "      <td>55.16</td>\n",
       "      <td>53.84</td>\n",
       "      <td>54.05</td>\n",
       "      <td>4125722.0</td>\n",
       "      <td>224876688.0</td>\n",
       "    </tr>\n",
       "    <tr>\n",
       "      <th>2018/10/16</th>\n",
       "      <td>54.07</td>\n",
       "      <td>54.97</td>\n",
       "      <td>53.00</td>\n",
       "      <td>53.40</td>\n",
       "      <td>3429991.0</td>\n",
       "      <td>185218128.0</td>\n",
       "    </tr>\n",
       "    <tr>\n",
       "      <th>2018/10/17</th>\n",
       "      <td>53.89</td>\n",
       "      <td>54.51</td>\n",
       "      <td>52.50</td>\n",
       "      <td>52.68</td>\n",
       "      <td>4913900.0</td>\n",
       "      <td>262943296.0</td>\n",
       "    </tr>\n",
       "  </tbody>\n",
       "</table>\n",
       "</div>"
      ],
      "text/plain": [
       "             open   high    low  close        vol        vol_m\n",
       "date                                                          \n",
       "2018/10/15  54.61  55.16  53.84  54.05  4125722.0  224876688.0\n",
       "2018/10/16  54.07  54.97  53.00  53.40  3429991.0  185218128.0\n",
       "2018/10/17  53.89  54.51  52.50  52.68  4913900.0  262943296.0"
      ]
     },
     "execution_count": 31,
     "metadata": {},
     "output_type": "execute_result"
    }
   ],
   "source": [
    "val"
   ]
  },
  {
   "cell_type": "code",
   "execution_count": 32,
   "metadata": {},
   "outputs": [
    {
     "data": {
      "text/plain": [
       "open     5.461000e+01\n",
       "high     5.516000e+01\n",
       "low      5.384000e+01\n",
       "close    5.405000e+01\n",
       "vol      4.125722e+06\n",
       "vol_m    2.248767e+08\n",
       "Name: 2018/10/15, dtype: float64"
      ]
     },
     "execution_count": 32,
     "metadata": {},
     "output_type": "execute_result"
    }
   ],
   "source": [
    "val.iloc[0]"
   ]
  },
  {
   "cell_type": "code",
   "execution_count": 35,
   "metadata": {},
   "outputs": [],
   "source": [
    "def deal_file( dataPath):\n",
    "    print (dataPath)\n",
    "    names=[\"date\",\"open\",\"high\",\"low\",\"close\",\"vol\",\"vol_m\"]\n",
    "    x = pd.read_csv(dataPath,sep='\\t',skiprows=2,names =names,index_col=0,encoding='gbk')\n",
    "    s = x.iloc[:,0].size\n",
    "    #前3天数据\n",
    "    val = x.iloc[s-4:s-1] ;\n",
    "    return val\n"
   ]
  },
  {
   "cell_type": "code",
   "execution_count": 36,
   "metadata": {},
   "outputs": [
    {
     "name": "stdout",
     "output_type": "stream",
     "text": [
      "/Users/quchaodong/stu/tmp/export/SH#600009.txt\n"
     ]
    }
   ],
   "source": [
    "a=deal_file(dataPath)"
   ]
  },
  {
   "cell_type": "code",
   "execution_count": 37,
   "metadata": {},
   "outputs": [
    {
     "data": {
      "text/html": [
       "<div>\n",
       "<style scoped>\n",
       "    .dataframe tbody tr th:only-of-type {\n",
       "        vertical-align: middle;\n",
       "    }\n",
       "\n",
       "    .dataframe tbody tr th {\n",
       "        vertical-align: top;\n",
       "    }\n",
       "\n",
       "    .dataframe thead th {\n",
       "        text-align: right;\n",
       "    }\n",
       "</style>\n",
       "<table border=\"1\" class=\"dataframe\">\n",
       "  <thead>\n",
       "    <tr style=\"text-align: right;\">\n",
       "      <th></th>\n",
       "      <th>open</th>\n",
       "      <th>high</th>\n",
       "      <th>low</th>\n",
       "      <th>close</th>\n",
       "      <th>vol</th>\n",
       "      <th>vol_m</th>\n",
       "    </tr>\n",
       "    <tr>\n",
       "      <th>date</th>\n",
       "      <th></th>\n",
       "      <th></th>\n",
       "      <th></th>\n",
       "      <th></th>\n",
       "      <th></th>\n",
       "      <th></th>\n",
       "    </tr>\n",
       "  </thead>\n",
       "  <tbody>\n",
       "    <tr>\n",
       "      <th>2018/10/15</th>\n",
       "      <td>54.61</td>\n",
       "      <td>55.16</td>\n",
       "      <td>53.84</td>\n",
       "      <td>54.05</td>\n",
       "      <td>4125722.0</td>\n",
       "      <td>224876688.0</td>\n",
       "    </tr>\n",
       "    <tr>\n",
       "      <th>2018/10/16</th>\n",
       "      <td>54.07</td>\n",
       "      <td>54.97</td>\n",
       "      <td>53.00</td>\n",
       "      <td>53.40</td>\n",
       "      <td>3429991.0</td>\n",
       "      <td>185218128.0</td>\n",
       "    </tr>\n",
       "    <tr>\n",
       "      <th>2018/10/17</th>\n",
       "      <td>53.89</td>\n",
       "      <td>54.51</td>\n",
       "      <td>52.50</td>\n",
       "      <td>52.68</td>\n",
       "      <td>4913900.0</td>\n",
       "      <td>262943296.0</td>\n",
       "    </tr>\n",
       "  </tbody>\n",
       "</table>\n",
       "</div>"
      ],
      "text/plain": [
       "             open   high    low  close        vol        vol_m\n",
       "date                                                          \n",
       "2018/10/15  54.61  55.16  53.84  54.05  4125722.0  224876688.0\n",
       "2018/10/16  54.07  54.97  53.00  53.40  3429991.0  185218128.0\n",
       "2018/10/17  53.89  54.51  52.50  52.68  4913900.0  262943296.0"
      ]
     },
     "execution_count": 37,
     "metadata": {},
     "output_type": "execute_result"
    }
   ],
   "source": [
    "a"
   ]
  },
  {
   "cell_type": "code",
   "execution_count": null,
   "metadata": {},
   "outputs": [],
   "source": []
  }
 ],
 "metadata": {
  "kernelspec": {
   "display_name": "Python 3",
   "language": "python",
   "name": "python3"
  },
  "language_info": {
   "codemirror_mode": {
    "name": "ipython",
    "version": 3
   },
   "file_extension": ".py",
   "mimetype": "text/x-python",
   "name": "python",
   "nbconvert_exporter": "python",
   "pygments_lexer": "ipython3",
   "version": "3.6.4"
  }
 },
 "nbformat": 4,
 "nbformat_minor": 2
}
